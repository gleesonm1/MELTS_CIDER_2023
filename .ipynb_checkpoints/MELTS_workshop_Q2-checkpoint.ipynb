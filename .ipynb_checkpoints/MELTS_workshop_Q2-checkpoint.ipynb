{
 "cells": [
  {
   "cell_type": "code",
   "execution_count": 1,
   "id": "49d709f6-5b7f-4a0a-bdc7-5031ef5ca560",
   "metadata": {},
   "outputs": [],
   "source": [
    "# First import the common Python packages\n",
    "import numpy as np\n",
    "# Pandas is like spreadsheets in python\n",
    "import pandas as pd\n",
    "# Lets get it to display all pandas columns\n",
    "pd.set_option('display.max_columns', None)\n",
    "# This is for plotting\n",
    "import matplotlib.pyplot as plt\n",
    "\n",
    "# import pyMELTScalc and locate the MELTS files\n",
    "import pyMELTScalc as M\n",
    "import sys\n",
    "\n",
    "sys.path.append(r\"MELTS\")"
   ]
  },
  {
   "cell_type": "markdown",
   "id": "f037fd25-b3cf-4cde-a591-8a856ce8fd13",
   "metadata": {},
   "source": [
    "# MELTS tutorial Q3 & 4 - Crystallisation and decompression of basaltic magmas"
   ]
  },
  {
   "cell_type": "markdown",
   "id": "00cf288b-d00b-4dba-8e95-985874c5ec8d",
   "metadata": {},
   "source": [
    "In this notebook we'll show how pyMELTScalc can quickly perform multiple calculations, and investigate how the liquid-line-of-descent is linked to the conditions of magma storage.\n",
    "\n",
    "First, we need to load in some data. For this example we'll use data from Isla Fernandina in the Galapagos Archipelago, where a series of melt inclusions and matrix glasses provide us with plenty of glass data to constain the magmatic evolution of the sub-volcanic system. The melt inclusion and matrix glass data is included in a single excel spreadsheet that we can load in using Pandas. We can also split this DataFrame into two. One containing just the melt inclusion data, the second including just the matrix glass data."
   ]
  },
  {
   "cell_type": "code",
   "execution_count": 2,
   "id": "09f40231-5761-4cbe-8b86-a11b1696fa6b",
   "metadata": {},
   "outputs": [],
   "source": [
    "df = pd.read_excel('Fernandina_glass.xlsx')\n",
    "df = df.fillna(0)\n",
    "\n",
    "# split data based on the Group (Melt Inclusion or Matrix Glass)\n",
    "MI = df.loc[df['Group'] == 'MI',:].reset_index(drop = True)\n",
    "MG = df.loc[df['Group'] == 'MG',:].reset_index(drop = True)\n",
    "\n",
    "MG.head()"
   ]
  },
  {
   "cell_type": "markdown",
   "id": "f8d588ca-4d54-4b6e-bfcf-8fb872676ace",
   "metadata": {},
   "source": [
    "One of the key things that we need to perform any calculations with MELTS is a starting composition. To start, let's use the most primitive (highest MgO) composition from the melt inclusion analyses. There are a few ways to find this composition, the way I like to do so (not necessarily the quickest) is to simply sort the melt inclusion DataFrame by the MgO contents and select the first row:"
   ]
  },
  {
   "cell_type": "code",
   "execution_count": 3,
   "id": "d58cfa8a-3bee-4f7d-8431-567d2b8a95e4",
   "metadata": {},
   "outputs": [],
   "source": [
    "MI = MI.sort_values('MgO', ascending = False, ignore_index = True)\n",
    "MI.head()"
   ]
  },
  {
   "cell_type": "code",
   "execution_count": 4,
   "id": "5da77a80-a76a-49ab-85ea-6aa28caf30b6",
   "metadata": {},
   "outputs": [],
   "source": [
    "starting_comp = MI.loc[0]\n",
    "# starting_comp['CO2'] = 0.5\n",
    "# starting_comp['H2O'] = 0.4\n",
    "starting_comp"
   ]
  },
  {
   "cell_type": "markdown",
   "id": "8031b333-bc47-412a-b870-bd3cf750e752",
   "metadata": {},
   "source": [
    "## Q3 - Crystallisation under different conditions\n",
    "\n",
    "### Q3.1 Using the starting composition selected above, simulate fractional crystallisation of magmas beneath Isla Fernandina at 500, 1000, 2000, and 4000 bars. Plot up the results.\n",
    "\n",
    "These calculations should be run using rhyoliteMELTSv1.2.0 (we have some CO$_2$ in the starting composition). All models should start at the liquidus and end at 1100$^o$C. Run the calculations at 1 log unit below the FMQ buffer."
   ]
  },
  {
   "cell_type": "code",
   "execution_count": 5,
   "id": "c1fdf7cd-6a56-4217-b8a1-5c032510a122",
   "metadata": {},
   "outputs": [],
   "source": [
    "import os\n",
    "sys.stdout = open(os.devnull, 'w')\n",
    "sys.stderr = open(os.devnull, 'w')"
   ]
  },
  {
   "cell_type": "code",
   "execution_count": 6,
   "id": "6cf1e49f-28d0-4988-b950-f837c3a4dfb9",
   "metadata": {},
   "outputs": [],
   "source": [
    "Isobaric_Xtal = M.isobaric_crystallisation(Model = \"MELTSv1.2.0\",\n",
    "                                           bulk = starting_comp,\n",
    "                                           find_liquidus = True,\n",
    "                                           P_bar = np.array([Enter Pressure Values]),\n",
    "                                           T_end_C = 1100,\n",
    "                                           dt_C = 2,\n",
    "                                           fO2_buffer = \"FMQ\",\n",
    "                                           fO2_offset = -1.0,\n",
    "                                           Frac_solid = True,\n",
    "                                           Frac_fluid = True,\n",
    "                                           label = \"pressure\")"
   ]
  },
  {
   "cell_type": "code",
   "execution_count": 7,
   "id": "b7b0cf30-92cf-43e5-95f4-dacd31757996",
   "metadata": {},
   "outputs": [],
   "source": [
    "x_axis = 'MgO'\n",
    "y_axis = ['Al2O3', 'FeOt', 'CaO']\n",
    "f, a = plt.subplots(1,3, figsize = (12,4), sharex = True)\n",
    "for i in range(len(y_axis)):\n",
    "    a[i].plot(MI[x_axis], MI[y_axis[i]], 'ok', mfc = 'b', label = \"Melt Inclusions\")\n",
    "    a[i].plot(MG[x_axis], MG[y_axis[i]], 'sk', mfc = 'y', label = \"Matrix Glass\")\n",
    "    for r in Isobaric_Xtal:\n",
    "        a[i].plot(Isobaric_Xtal[r]['All'][x_axis + '_Liq'], Isobaric_Xtal[r]['All'][y_axis[i] + '_Liq'],\n",
    "                  '--', label = r)\n",
    "        \n",
    "a[2].legend()"
   ]
  },
  {
   "cell_type": "markdown",
   "id": "d6b9d3ca-5502-4c31-b5ce-205d25a4d468",
   "metadata": {},
   "source": [
    "### Q3.2 What model provides the best match to the data?\n",
    "\n",
    "Melt inclusion volatile contents are influenced by numerous processes (e.g., diffusive H$^+$ loss, decrepitation, vapour bubble formation etc.). Gleeson et al. (2022) suggested that this melt inclusion likely contained ~0.4 wt% H$_2$O at the time of melt entrapment (and possibly up to 0.5 wt% CO$_2$). \n",
    "\n",
    "### Q3.3 Test the influence of melt volatile contents on the liquid-line-of-descent by changing the H$_2$O and CO$_2$ contents. How does this affect your results?\n",
    "\n",
    "**HINT: use the commented lines above to overwrite the H$_2$O and CO$_2$ content of the initial melt composition**"
   ]
  },
  {
   "cell_type": "markdown",
   "id": "4c176a9e-4a8a-4743-9269-171c0584b362",
   "metadata": {},
   "source": [
    "We'll now move onto simulating the decompression of these magmas prior to/during eruption. The submarine matrix glasses were erupted under ~3000 m of water, so the assumption is that they did not loose any water during ascent towards the surface.\n",
    "\n",
    "## Q4 - Degassing and decompression\n"
   ]
  },
  {
   "cell_type": "markdown",
   "id": "ac56eb09-ce1f-419f-adc0-da5b8137322d",
   "metadata": {},
   "source": [
    "When considering the decompression and ascent of the final magma prior to eruption, it's probably better to consider the matrix glass compositions, rather than the melt inclusions, probably provide a better estimate of the pre-eruptive magma composition. For these calculations let's simply calculate the average matrix glass composition and use that:"
   ]
  },
  {
   "cell_type": "code",
   "execution_count": 8,
   "id": "ed8120f2-44d4-4bc8-a38e-ead9c11bc771",
   "metadata": {},
   "outputs": [],
   "source": [
    "starting_comp = MG.apply(pd.to_numeric, errors='coerce').mean()\n",
    "starting_comp"
   ]
  },
  {
   "cell_type": "markdown",
   "id": "9bb767b6-da6c-4f33-9fb8-a0e456167262",
   "metadata": {},
   "source": [
    "The Fernandina magmas we likely stored at ~3 kbar (3000 bars) prior to eruption. pyMELTScalc can use this information and the rhyoliteMELTSv1.2.0 model (MAGMASAT) to tell us how much CO$_2$ can dissolve in this magma at its liquidus."
   ]
  },
  {
   "cell_type": "code",
   "execution_count": 9,
   "id": "1a5927dd-7b68-43ee-ad88-05f4d462c3e0",
   "metadata": {},
   "outputs": [],
   "source": [
    "T_Liq, H2O, CO2 = M.findCO2_multi(Model = \"MELTSv1.2.0\",\n",
    "                                bulk = starting_comp.to_dict(),\n",
    "                                fO2_buffer = \"FMQ\",\n",
    "                                fO2_offset = -1.0,\n",
    "                                P_bar = 3000)"
   ]
  },
  {
   "cell_type": "markdown",
   "id": "467d7248-1249-4375-8be9-65faf4970303",
   "metadata": {},
   "source": [
    "### Q4.1 How much CO$_2$ can dissolve in the Fernandina magmas prior to eruption (during storage at ~3 kbar)?"
   ]
  },
  {
   "cell_type": "code",
   "execution_count": 10,
   "id": "85b8f2fe-5b67-4ede-aa7a-bb4df9584aa5",
   "metadata": {},
   "outputs": [],
   "source": [
    "CO2"
   ]
  },
  {
   "cell_type": "markdown",
   "id": "8a1c955b-1eed-4826-940a-43c9f96287f8",
   "metadata": {},
   "source": [
    "Now we have an estimate of pressure, a pre-eruptive melt composition, and pre-eruptive volatile contents. Using that information it's straightforward to simulate isothermal decompression of this magma as it moves towards the surface."
   ]
  },
  {
   "cell_type": "code",
   "execution_count": 11,
   "id": "d71e1568-f353-4baa-9358-4984e951cb1c",
   "metadata": {},
   "outputs": [],
   "source": [
    "Decompression_const_T = M.isothermal_decompression(Model = \"MELTSv1.2.0\",\n",
    "                                                   bulk = starting_comp.to_dict(),\n",
    "                                                   T_C = , # Enter the temperature to start at\n",
    "                                                   P_start_bar = 3000,\n",
    "                                                   P_end_bar = 300,\n",
    "                                                   dp_bar = 25,\n",
    "                                                   fO2_buffer = \"FMQ\",\n",
    "                                                   fO2_offset = -1.0,\n",
    "                                                   H2O_Liq = , # enter the initial melt H2O content\n",
    "                                                   CO2_Liq = ) # enter the initial melt CO2 content"
   ]
  },
  {
   "cell_type": "code",
   "execution_count": 12,
   "id": "27204947-d702-4b7c-9305-c8f96f90655a",
   "metadata": {},
   "outputs": [],
   "source": [
    "f, a = plt.subplots(1,3, figsize = (10,6), sharey = True)\n",
    "a[0].plot(Decompression_const_T['Volume']['fluid1']/Decompression_const_T['Volume'].sum(axis = 1),\n",
    "         Decompression_const_T['All']['P_bar']/1000, '-k')\n",
    "a[0].set_ylim([3,0])\n",
    "a[0].set_ylabel('Pressure (kbar)')\n",
    "a[0].set_xlabel('Fluid volume fraction')\n",
    "\n",
    "# convert outputs in wt% to mole fractions in the fluid\n",
    "xH2O = (Decompression_const_T['fluid1']['H2O_fluid1']/18)/(Decompression_const_T['fluid1']['H2O_fluid1']/18 + \n",
    "                                                           Decompression_const_T['fluid1']['CO2_fluid1']/44)\n",
    "\n",
    "a[1].plot(xH2O, Decompression_const_T['All']['P_bar']/1000, '-k', label = \"X$_{H2O}$\")\n",
    "a[1].plot(1-xH2O, Decompression_const_T['All']['P_bar']/1000, ':k', label = \"X$_{CO2}$\")\n",
    "a[1].set_ylim([3,0])\n",
    "a[1].set_xlabel('Fluid mole fraction')\n",
    "a[1].set_ylabel('Pressure (kbar)')\n",
    "a[1].legend()\n",
    "\n",
    "a[2].plot(Decompression_const_T['All']['H2O_Liq'], \n",
    "          Decompression_const_T['All']['P_bar']/1000, '-k', label = \"H$_2$O\")\n",
    "a[2].plot(Decompression_const_T['All']['CO2_Liq'], \n",
    "          Decompression_const_T['All']['P_bar']/1000, \n",
    "          ':k', label = \"CO$_2$\")\n",
    "a[2].set_ylim([3,0])\n",
    "a[2].set_xlabel('Melt content (wt%)')\n",
    "a[2].set_ylabel('Pressure (kbar)')\n",
    "a[2].legend()"
   ]
  },
  {
   "cell_type": "markdown",
   "id": "1730cb57-531b-44b3-928e-008662e482fa",
   "metadata": {},
   "source": [
    "### Q4.2 What is the H$_2$O content of the melt phase at 300 bars (end of the model)?\n",
    "\n",
    "### Q4.3 What is the maximum fluid volume fraction for this submarine eruption?\n",
    " \n",
    " **If you're waiting for others to finish, think about the following questions**\n",
    " - **This initial model represents closed system degassing (melt and fluid remain in equilibrium during decompression), if we add a command 'Frac_fluid = True' to the function above, we can instead simulate open system degassing (fluid separates from the melt as it forms). Try implementing this change and consider the same questions.**\n",
    " - **What problems might be associated with the isothermal assumption used in this calculation? What other constraints could we impose on the thermal properties of the decompressing magma?**          "
   ]
  },
  {
   "cell_type": "code",
   "execution_count": 13,
   "id": "862a4d1a-da67-43ea-aebf-4537ab18132a",
   "metadata": {},
   "outputs": [],
   "source": [
    "Decompression_const_T['All']['H2O_Liq']"
   ]
  },
  {
   "cell_type": "code",
   "execution_count": 14,
   "id": "8a107851-630d-43a3-b2ea-52552e07105a",
   "metadata": {},
   "outputs": [],
   "source": [
    "Decompression_const_T['liquid1']"
   ]
  },
  {
   "cell_type": "code",
   "execution_count": null,
   "id": "984a3958-5f62-4050-85b1-fe6185bdb1bb",
   "metadata": {},
   "outputs": [],
   "source": []
  }
 ],
 "metadata": {
  "kernelspec": {
   "display_name": "Python 3 (ipykernel)",
   "language": "python",
   "name": "python3"
  },
  "language_info": {
   "codemirror_mode": {
    "name": "ipython",
    "version": 3
   },
   "file_extension": ".py",
   "mimetype": "text/x-python",
   "name": "python",
   "nbconvert_exporter": "python",
   "pygments_lexer": "ipython3",
   "version": "3.9.13"
  }
 },
 "nbformat": 4,
 "nbformat_minor": 5
}
