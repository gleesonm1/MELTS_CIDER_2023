{
 "cells": [
  {
   "cell_type": "code",
   "execution_count": 1,
   "id": "49d709f6-5b7f-4a0a-bdc7-5031ef5ca560",
   "metadata": {},
   "outputs": [],
   "source": [
    "# First import the common Python packages\n",
    "import numpy as np\n",
    "# Pandas is like spreadsheets in python\n",
    "import pandas as pd\n",
    "# Lets get it to display all pandas columns\n",
    "pd.set_option('display.max_columns', None)\n",
    "# This is for plotting\n",
    "import matplotlib.pyplot as plt\n",
    "\n",
    "# import pyMELTScalc and locate the MELTS files\n",
    "import pyMELTScalc as M\n",
    "import sys\n",
    "\n",
    "sys.path.append(r\"MELTS\")"
   ]
  },
  {
   "cell_type": "markdown",
   "id": "f037fd25-b3cf-4cde-a591-8a856ce8fd13",
   "metadata": {},
   "source": [
    "# MELTS tutorial Q3 - Decompression and degassing behaviour of basaltic magmas"
   ]
  },
  {
   "cell_type": "markdown",
   "id": "47558174-8827-4dbd-b894-77be867916e5",
   "metadata": {},
   "source": [
    "This notebook will take you through some simple calculations used to simulate the degassing behaviour of basaltic melts during ascent towards the surface. Take a minute or two to discuss why this information might be useful..."
   ]
  },
  {
   "cell_type": "markdown",
   "id": "d5157fd8-524b-4c63-9c83-8f72d1b69e00",
   "metadata": {},
   "source": [
    "For these calculations we'll be using a erupted melt composition from Volcan Wolf in the Galapagos Archipelago (Stock et al. 2018; https://doi.org/10.1029/2018GC007936), let's start by loading that in as a dictionary (those who did the thermobarometry tutorial will notice I use the same naming convention as in Thermobar):"
   ]
  },
  {
   "cell_type": "code",
   "execution_count": 2,
   "id": "ed8120f2-44d4-4bc8-a38e-ead9c11bc771",
   "metadata": {},
   "outputs": [],
   "source": [
    "starting_comp = {'SiO2_Liq': 48.82,\n",
    "                 'TiO2_Liq': 3.55,\n",
    "                 'Al2O3_Liq': 13.62,\n",
    "                 'FeOt_Liq': 12.19,\n",
    "                 'MnO_Liq': 0.22,\n",
    "                 'MgO_Liq': 5.54,\n",
    "                 'CaO_Liq': 9.90,\n",
    "                 'Na2O_Liq': 3.40,\n",
    "                 'K2O_Liq': 0.67,\n",
    "                 'P2O5_Liq': 0.47}"
   ]
  },
  {
   "cell_type": "markdown",
   "id": "e7cfbe37-8404-437f-8dc8-a7609d5456b0",
   "metadata": {},
   "source": [
    "Independent analyses of submarine glasses from the surrounding Galapagos platform indicate that the Wolf magmas contain ~1 wt% H$_2$O prior to eruption (Peterson et al. 2017). In addition, OPAM and Cpx-Liq barometry indicate that magma is stored in the lower crust at ~ 3kbar (Stock et al. 2018). The first thing we can do is use the latest rhyolite-MELTS model (v1.2.0), which contains a mixed H$_2$O-CO$_2$ fluid model, to determine the maximum amount of CO$_2$ that could dissolve in this magma at the pressure indicated by mineral and melt barometry.\n",
    "\n",
    "Examine the results. \n",
    "\n",
    "- **What is the solubility of CO$_2$ in this magma with 1 wt% H$_2$O? How does this change if you lower or rise the melt H$_2$O content?**"
   ]
  },
  {
   "cell_type": "code",
   "execution_count": 3,
   "id": "c1fdf7cd-6a56-4217-b8a1-5c032510a122",
   "metadata": {},
   "outputs": [],
   "source": [
    "import os\n",
    "sys.stdout = open(os.devnull, 'w')\n",
    "sys.stderr = open(os.devnull, 'w')"
   ]
  },
  {
   "cell_type": "code",
   "execution_count": 1,
   "id": "1a5927dd-7b68-43ee-ad88-05f4d462c3e0",
   "metadata": {},
   "outputs": [],
   "source": [
    "T_Liq, H2O, CO2 = M.findCO2_multi(Model = \"MELTSv1.2.0\",\n",
    "                                bulk = starting_comp,\n",
    "                                Fe3Fet_Liq = 0.17,\n",
    "                                H2O_Liq = 1,\n",
    "                                P_bar = 3000)"
   ]
  },
  {
   "cell_type": "code",
   "execution_count": 2,
   "id": "85b8f2fe-5b67-4ede-aa7a-bb4df9584aa5",
   "metadata": {},
   "outputs": [],
   "source": [
    "CO2"
   ]
  },
  {
   "cell_type": "markdown",
   "id": "8a1c955b-1eed-4826-940a-43c9f96287f8",
   "metadata": {},
   "source": [
    "- **Using the results from that calculation (i.e., the liquidus temperature and the melt CO$_2$ content), use the following code to simulate isothermal decompression of this magma as it ascends towards the surface during an eruption**"
   ]
  },
  {
   "cell_type": "code",
   "execution_count": 7,
   "id": "d71e1568-f353-4baa-9358-4984e951cb1c",
   "metadata": {},
   "outputs": [],
   "source": [
    "Decompression_const_T = M.isothermal_decompression(Model = \"MELTSv1.2.0\",\n",
    "                                                   bulk = starting_comp,\n",
    "                                                   T_C = ,\n",
    "                                                   P_start_bar = 3000,\n",
    "                                                   P_end_bar = 50,\n",
    "                                                   dp_bar = 25,\n",
    "                                                   Fe3Fet_Liq = 0.17,\n",
    "                                                   H2O_Liq = ,\n",
    "                                                   CO2_Liq = )"
   ]
  },
  {
   "cell_type": "markdown",
   "id": "1730cb57-531b-44b3-928e-008662e482fa",
   "metadata": {},
   "source": [
    "Plot up the results and try to answer the following questions:\n",
    "\n",
    " - **What is the H$_2$O content of the melt phase at 500 bars (50 MPa)?**\n",
    " - **At what pressure is the fluid volume fraction greater than 0.4 (i.e., 40%)?**\n",
    " - **At what pressure does the melt become 'water saturated'?**\n",
    " \n",
    " **If you're waiting for others to finish, think about the following questions**\n",
    " - **This initial model represents closed system degassing (melt and fluid remain in equilibrium during decompression), if we add a command 'Frac_fluid = True' to the function above, we can instead simulate open system degassing (fluid separates from the melt as it forms). Try implementing this change and consider the same questions.**\n",
    " - **What problems might be associated with the isothermal assumption used in this calculation? What other constraints could we impose on the thermal properties of the decompressing magma?**          "
   ]
  },
  {
   "cell_type": "code",
   "execution_count": 3,
   "id": "27204947-d702-4b7c-9305-c8f96f90655a",
   "metadata": {},
   "outputs": [],
   "source": [
    "f, a = plt.subplots(1,3, figsize = (10,6), sharey = True)\n",
    "a[0].plot(Decompression_const_T['Volume']['fluid1']/Decompression_const_T['Volume'].sum(axis = 1),\n",
    "         Decompression_const_T['All']['P_bar']/1000, '-k')\n",
    "a[0].set_ylim([3,0])\n",
    "a[0].set_ylabel('Pressure (kbar)')\n",
    "a[0].set_xlabel('Fluid volume fraction')\n",
    "\n",
    "# convert outputs in wt% to mole fractions in the fluid\n",
    "xH2O = (Decompression_const_T['fluid1']['H2O_fluid1']/18)/(Decompression_const_T['fluid1']['H2O_fluid1']/18 + \n",
    "                                                           Decompression_const_T['fluid1']['CO2_fluid1']/44)\n",
    "\n",
    "a[1].plot(xH2O, Decompression_const_T['All']['P_bar']/1000, '-k', label = \"X$_{H2O}$\")\n",
    "a[1].plot(1-xH2O, Decompression_const_T['All']['P_bar']/1000, ':k', label = \"X$_{CO2}$\")\n",
    "a[1].set_ylim([3,0])\n",
    "a[1].set_xlabel('Fluid mole fraction')\n",
    "a[1].legend()\n",
    "\n",
    "a[2].plot(Decompression_const_T['All']['H2O_Liq'], \n",
    "          Decompression_const_T['All']['P_bar']/1000, '-k', label = \"H$_2$O\")\n",
    "a[2].plot(Decompression_const_T['All']['CO2_Liq'], \n",
    "          Decompression_const_T['All']['P_bar']/1000, \n",
    "          ':k', label = \"CO$_2$\")\n",
    "a[2].set_ylim([3,0])\n",
    "a[2].set_xlabel('Melt content (wt%)')\n",
    "a[2].legend()"
   ]
  },
  {
   "cell_type": "markdown",
   "id": "83a8e46a-e081-449d-9376-1232147489f1",
   "metadata": {},
   "source": [
    "Instead of holding the temeprature of the system constant, we could hold the entropy constant (isentropic). Using the following code we can simulate adiabatic ascent of magma towards the surface.\n",
    "\n",
    "- **What happens to the temperature of the melt phase during adiabatic decompression?**\n",
    "- **Try rerunning these models with a higher water content (~2 - 3 wt%). What happens to the temperature of the system at low pressure? What is causing this?**"
   ]
  },
  {
   "cell_type": "code",
   "execution_count": 6,
   "id": "563c40f1-dbbd-460c-923a-4b4d255a5781",
   "metadata": {},
   "outputs": [],
   "source": [
    "Decompression_const_S = M.isentropic_decompression(Model = \"MELTSv1.2.0\",\n",
    "                                                   bulk = starting_comp,\n",
    "                                                   T_C = T_Liq,\n",
    "                                                   P_start_bar = 3000,\n",
    "                                                   P_end_bar = 50,\n",
    "                                                   dp_bar = 25,\n",
    "                                                   Fe3Fet_Liq = 0.17,\n",
    "                                                   H2O_Liq = H2O,\n",
    "                                                   CO2_Liq = CO2)"
   ]
  },
  {
   "cell_type": "code",
   "execution_count": 7,
   "id": "9967f1e5-3afd-430e-ab5e-6e32b12c0043",
   "metadata": {},
   "outputs": [],
   "source": [
    "f, a = plt.subplots(1,3, figsize = (10,6), sharey = True)\n",
    "a[0].plot(Decompression_const_S['All']['T_C'],\n",
    "         Decompression_const_S['All']['P_bar']/1000, '-k')\n",
    "a[0].set_ylim([3,0])\n",
    "a[0].set_ylabel('Pressure (kbar)')\n",
    "a[0].set_xlabel('Temperature ($^o$C)')\n",
    "\n",
    "a[1].plot(Decompression_const_S['Volume']['fluid1']/Decompression_const_S['Volume'].sum(axis = 1),\n",
    "         Decompression_const_S['All']['P_bar']/1000, '-k')\n",
    "a[1].set_ylim([3,0])\n",
    "a[1].set_ylabel('Pressure (kbar)')\n",
    "a[1].set_xlabel('Fluid volume fraction')\n",
    "\n",
    "\n",
    "a[2].plot(Decompression_const_S['All']['H2O_Liq'], \n",
    "          Decompression_const_S['All']['P_bar']/1000, '-k', label = \"H$_2$O\")\n",
    "a[2].plot(Decompression_const_S['All']['CO2_Liq'], \n",
    "          Decompression_const_S['All']['P_bar']/1000, \n",
    "          ':k', label = \"CO$_2$\")\n",
    "a[2].set_ylim([3,0])\n",
    "a[2].set_xlabel('Melt content (wt%)')\n",
    "a[2].legend()"
   ]
  },
  {
   "cell_type": "code",
   "execution_count": null,
   "id": "862a4d1a-da67-43ea-aebf-4537ab18132a",
   "metadata": {},
   "outputs": [],
   "source": []
  }
 ],
 "metadata": {
  "kernelspec": {
   "display_name": "Python 3 (ipykernel)",
   "language": "python",
   "name": "python3"
  },
  "language_info": {
   "codemirror_mode": {
    "name": "ipython",
    "version": 3
   },
   "file_extension": ".py",
   "mimetype": "text/x-python",
   "name": "python",
   "nbconvert_exporter": "python",
   "pygments_lexer": "ipython3",
   "version": "3.9.13"
  }
 },
 "nbformat": 4,
 "nbformat_minor": 5
}
