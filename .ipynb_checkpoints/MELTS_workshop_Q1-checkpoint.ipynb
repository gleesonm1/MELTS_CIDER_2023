{
 "cells": [
  {
   "cell_type": "code",
   "execution_count": 1,
   "metadata": {},
   "outputs": [],
   "source": [
    "# First import the common Python packages\n",
    "import numpy as np\n",
    "# Pandas is like spreadsheets in python\n",
    "import pandas as pd\n",
    "# Lets get it to display all pandas columns\n",
    "pd.set_option('display.max_columns', None)\n",
    "# This is for plotting\n",
    "import matplotlib.pyplot as plt\n",
    "\n",
    "# import pyMELTScalc and locate the MELTS files\n",
    "import pyMELTScalc as M\n",
    "import sys\n",
    "\n",
    "sys.path.append(r\"MELTS\")"
   ]
  },
  {
   "cell_type": "markdown",
   "metadata": {},
   "source": [
    "# MELTS tutorial Q1 & 2 - liquidus, equilibrate, and crystallisation calculations"
   ]
  },
  {
   "cell_type": "markdown",
   "metadata": {},
   "source": [
    "This notebook will take you through some simple calculations used to show how we might set up a crystallisation calculation for a high-silica rhyolite. The composition used is from the Oldest Toba Tuff. \n",
    "\n",
    "Above you should have loaded in the common Python packages, and told Python where to find the underlying alphaMELTS for Python code (in the sys.path.append(r' ') copy the location of the MELTS files on your PC).\n",
    "\n",
    "First, lets set a starting composition. To do this we simply create a Python dictionary with the amount of each oxide."
   ]
  },
  {
   "cell_type": "code",
   "execution_count": 2,
   "metadata": {},
   "outputs": [],
   "source": [
    "comp = {'SiO2_Liq': 74.39,\n",
    "        'TiO2_Liq': 0.18,\n",
    "        'Al2O3_Liq': 13.55,\n",
    "        'FeOt_Liq': 1.30,\n",
    "        'MgO_Liq': 0.50,\n",
    "        'CaO_Liq': 1.43,\n",
    "        'Na2O_Liq': 3.36,\n",
    "        'K2O_Liq': 5.09}"
   ]
  },
  {
   "cell_type": "markdown",
   "metadata": {},
   "source": [
    "## Q1"
   ]
  },
  {
   "cell_type": "markdown",
   "metadata": {},
   "source": [
    "### Q1.1 Using a pressure of 1750 bars (175 MPa) and an oxygen fugacity constrained at the Ni-NiO buffer, and a melt H$_2$O concentration of 4 wt%, calculate the liquidus temperature\n",
    "\n",
    "This can be done using the \"findLiq_multi\" function from pyMELTScalc."
   ]
  },
  {
   "cell_type": "code",
   "execution_count": 13,
   "metadata": {},
   "outputs": [],
   "source": [
    "import os\n",
    "sys.stdout = open(os.devnull, 'w')\n",
    "sys.stderr = open(os.devnull, 'w')"
   ]
  },
  {
   "cell_type": "code",
   "execution_count": 25,
   "metadata": {},
   "outputs": [],
   "source": [
    "Results = M.findLiq_multi(Model = \"MELTSv1.0.2\", \n",
    "                        bulk = comp,\n",
    "                        P_bar = ,\n",
    "                        H2O_Liq = ,\n",
    "                        fO2_buffer = \"NNO\")    "
   ]
  },
  {
   "cell_type": "markdown",
   "metadata": {},
   "source": [
    "This function will return a Dictionary containing the liquidus temperature (in Celsius), the liquidus phase, and the normalized melt composition (including volatile components)."
   ]
  },
  {
   "cell_type": "code",
   "execution_count": 26,
   "metadata": {},
   "outputs": [],
   "source": [
    "Results"
   ]
  },
  {
   "cell_type": "markdown",
   "metadata": {},
   "source": [
    "-\n",
    "-\n",
    "-\n",
    "-\n",
    "\n"
   ]
  },
  {
   "cell_type": "markdown",
   "metadata": {},
   "source": [
    "- **Keeping all other settings the same, what is the liquidus temperature of the magma when it is water saturated?**\n",
    "\n",
    "- **What is the liquidus phase at the water-saturated liquidus?**\n",
    "\n",
    "Try increasing the H$_2$O content until the \"fluid_saturated\" value changes to \"Yes\".\n",
    "\n",
    "- **Using your results, what is the solubility of water at the liquidus (according to the rhyoliteMELTSv1.0.2 model)?**"
   ]
  },
  {
   "cell_type": "code",
   "execution_count": 3,
   "metadata": {},
   "outputs": [],
   "source": [
    "Results = M.findLiq_multi(Model = \"MELTSv1.0.2\", \n",
    "                            bulk = comp,\n",
    "                            P_bar = 1750,\n",
    "                            H2O_Liq = ,\n",
    "                            fO2_buffer = \"NNO\")"
   ]
  },
  {
   "cell_type": "code",
   "execution_count": 15,
   "metadata": {},
   "outputs": [
    {
     "data": {
      "text/plain": [
       "{'T_Liq': 860.5499999999996,\n",
       " 'liquidus_phase': 'orthopyroxene1',\n",
       " 'fluid_saturated': 'No',\n",
       " 'SiO2': 71.6620381025268,\n",
       " 'TiO2': 0.1735134361588442,\n",
       " 'Al2O3': 13.061377001621128,\n",
       " 'Fe2O3': 0.33688102366157663,\n",
       " 'Cr2O3': 0.0,\n",
       " 'FeO': 0.9285092824402547,\n",
       " 'MnO': 0.0,\n",
       " 'MgO': 0.48153035635052815,\n",
       " 'CaO': 1.3771768738589403,\n",
       " 'Na2O': 3.2358842516123345,\n",
       " 'K2O': 4.901979611371476,\n",
       " 'P2O5': 0.0,\n",
       " 'H2O': 3.8522436150133244,\n",
       " 'CO2': 0.0}"
      ]
     },
     "execution_count": 15,
     "metadata": {},
     "output_type": "execute_result"
    }
   ],
   "source": [
    "Results"
   ]
  },
  {
   "cell_type": "markdown",
   "metadata": {},
   "source": [
    "-\n",
    "-\n",
    "-\n",
    "-\n"
   ]
  },
  {
   "cell_type": "markdown",
   "metadata": {},
   "source": [
    "Note that the pyMELTScalc output is normalised to a hydrous total of 100 wt%. By default, MELTS treats the input composition as grams of the different oxide values (e.g., grams of SiO$_2$, grams of TiO$_2$ etc.). How many grams of H$_2$O are required for the magma to be water saturated at the liquidus at 1750 bars?\n",
    "\n",
    "This can be determined by multiplying the H$_2$O content in wt% by the ratio of the inputted SiO$_2$ content (in grams) and the outputted SiO$_2$ content (in wt%)."
   ]
  },
  {
   "cell_type": "code",
   "execution_count": 8,
   "metadata": {},
   "outputs": [
    {
     "data": {
      "text/plain": [
       "5.036154583728423"
      ]
     },
     "execution_count": 8,
     "metadata": {},
     "output_type": "execute_result"
    }
   ],
   "source": [
    "H2O_gram = Results['H2O']*comp['SiO2_Liq']/Results['SiO2']\n",
    "H2O_gram"
   ]
  },
  {
   "cell_type": "markdown",
   "metadata": {},
   "source": [
    "- **Using the M.equilibrate_multi function, determine the mass percent of melt remaining int he system at 765$^o$C for a melt that is water-saturated (but contains no exsolved water) at the liquidus?**"
   ]
  },
  {
   "cell_type": "code",
   "execution_count": 16,
   "metadata": {},
   "outputs": [
    {
     "data": {
      "application/vnd.jupyter.widget-view+json": {
       "model_id": "0540f9e36244458d8388f87692a86229",
       "version_major": 2,
       "version_minor": 0
      },
      "text/plain": [
       "  0%|          | 0/1 [00:00<?, ?it/s]"
      ]
     },
     "metadata": {},
     "output_type": "display_data"
    }
   ],
   "source": [
    "Eq_Results = M.equilibrate_multi(Model = \"MELTSv1.0.2\", \n",
    "                            bulk = comp, \n",
    "                            T_C = 765, \n",
    "                            P_bar = 1750, \n",
    "                            H2O_Liq = 10, \n",
    "                            fO2_buffer = \"NNO\")"
   ]
  },
  {
   "cell_type": "markdown",
   "metadata": {},
   "source": [
    "The results are all stored in a Dictionary called Eq_Results. Within this dictionary there is a DataFrame called 'Mass' (i.e., Eq_Results['Mass']) that contains  the mass of each phase at this pressure and temperature."
   ]
  },
  {
   "cell_type": "code",
   "execution_count": 19,
   "metadata": {},
   "outputs": [
    {
     "data": {
      "text/plain": [
       "dict_keys(['Conditions', 'liquid1', 'liquid1_prop', 'orthopyroxene1', 'orthopyroxene1_prop', 'plagioclase1', 'plagioclase1_prop', 'spinel1', 'spinel1_prop', 'water1', 'water1_prop', 'All', 'Mass', 'Volume', 'rho'])"
      ]
     },
     "execution_count": 19,
     "metadata": {},
     "output_type": "execute_result"
    }
   ],
   "source": [
    "Eq_Results.keys()"
   ]
  },
  {
   "cell_type": "markdown",
   "metadata": {},
   "source": [
    "- **What is the Anorthite content of the plagioclase formed at this temperature?**\n",
    "\n",
    "The composition of any phase can be accessed in the Eq_Results Dictionary by calling the DataFrame with the phase name followed by 1. i.e., for plagioclase compositions you would type Eq_Results['plagioclase1']."
   ]
  },
  {
   "cell_type": "code",
   "execution_count": 22,
   "metadata": {},
   "outputs": [
    {
     "data": {
      "text/html": [
       "<div>\n",
       "<style scoped>\n",
       "    .dataframe tbody tr th:only-of-type {\n",
       "        vertical-align: middle;\n",
       "    }\n",
       "\n",
       "    .dataframe tbody tr th {\n",
       "        vertical-align: top;\n",
       "    }\n",
       "\n",
       "    .dataframe thead th {\n",
       "        text-align: right;\n",
       "    }\n",
       "</style>\n",
       "<table border=\"1\" class=\"dataframe\">\n",
       "  <thead>\n",
       "    <tr style=\"text-align: right;\">\n",
       "      <th></th>\n",
       "      <th>SiO2_Plag</th>\n",
       "      <th>TiO2_Plag</th>\n",
       "      <th>Al2O3_Plag</th>\n",
       "      <th>Cr2O3_Plag</th>\n",
       "      <th>Fe2O3_Plag</th>\n",
       "      <th>FeO_Plag</th>\n",
       "      <th>FeOt_Plag</th>\n",
       "      <th>MnO_Plag</th>\n",
       "      <th>MgO_Plag</th>\n",
       "      <th>CaO_Plag</th>\n",
       "      <th>Na2O_Plag</th>\n",
       "      <th>K2O_Plag</th>\n",
       "      <th>P2O5_Plag</th>\n",
       "      <th>H2O_Plag</th>\n",
       "      <th>CO2_Plag</th>\n",
       "      <th>Fe3Fet_Plag</th>\n",
       "    </tr>\n",
       "  </thead>\n",
       "  <tbody>\n",
       "    <tr>\n",
       "      <th>0</th>\n",
       "      <td>62.399416</td>\n",
       "      <td>0.0</td>\n",
       "      <td>23.439</td>\n",
       "      <td>0.0</td>\n",
       "      <td>0.0</td>\n",
       "      <td>0.0</td>\n",
       "      <td>0.0</td>\n",
       "      <td>0.0</td>\n",
       "      <td>0.0</td>\n",
       "      <td>4.777365</td>\n",
       "      <td>8.167063</td>\n",
       "      <td>1.217155</td>\n",
       "      <td>0.0</td>\n",
       "      <td>0.0</td>\n",
       "      <td>0.0</td>\n",
       "      <td>NaN</td>\n",
       "    </tr>\n",
       "  </tbody>\n",
       "</table>\n",
       "</div>"
      ],
      "text/plain": [
       "   SiO2_Plag  TiO2_Plag  Al2O3_Plag  Cr2O3_Plag  Fe2O3_Plag  FeO_Plag   \n",
       "0  62.399416        0.0      23.439         0.0         0.0       0.0  \\\n",
       "\n",
       "   FeOt_Plag  MnO_Plag  MgO_Plag  CaO_Plag  Na2O_Plag  K2O_Plag  P2O5_Plag   \n",
       "0        0.0       0.0       0.0  4.777365   8.167063  1.217155        0.0  \\\n",
       "\n",
       "   H2O_Plag  CO2_Plag  Fe3Fet_Plag  \n",
       "0       0.0       0.0          NaN  "
      ]
     },
     "execution_count": 22,
     "metadata": {},
     "output_type": "execute_result"
    }
   ],
   "source": [
    "Eq_Results['plagioclase1']"
   ]
  },
  {
   "cell_type": "markdown",
   "metadata": {},
   "source": [
    "pyMELTScalc doesn't automatically give you the mineral proportions in terms of their end-member components. However, one of the great things about pyMELTScalc is that it's specifically designed to integrate with other Python packages. For example, here we can use Thermobar to calculate the Plagioclase cation fractions and end-member components without having to modify our output at all!"
   ]
  },
  {
   "cell_type": "code",
   "execution_count": 24,
   "metadata": {},
   "outputs": [
    {
     "data": {
      "text/plain": [
       "'1.0.24'"
      ]
     },
     "execution_count": 24,
     "metadata": {},
     "output_type": "execute_result"
    }
   ],
   "source": [
    "import Thermobar as pt\n",
    "Plag = pt.calculate_cat_fractions_plagioclase(plag_comps = Eq_Results['plagioclase1'])\n",
    "Plag['An_Plag']\n",
    "\n",
    "pt.__version__"
   ]
  },
  {
   "cell_type": "markdown",
   "metadata": {},
   "source": [
    "### Q2"
   ]
  },
  {
   "cell_type": "markdown",
   "metadata": {},
   "source": [
    "- **Using the same conditions and composition as above, run as isobaric cooling sequence (for now we will assume equilibrium crystallisation) with fO$_2$ constained at the Ni-NiO buffer. Start this simulation at the \"wet liquidus\" and continue until the system is more than 90% crystals!**\n",
    "\n",
    "For this, we will use a funcion termed M.isobaric_crystallisation\n",
    "\n",
    "In this function we need to provide the pressure and fO$_2$ constraints as well as several other bits of information. Read the comments below to find out what each variable does:"
   ]
  },
  {
   "cell_type": "code",
   "execution_count": 15,
   "metadata": {},
   "outputs": [],
   "source": [
    "Cryst_Results = M.isobaric_crystallisation(Model = \"MELTSv1.0.2\", # the version of MELTS to be used in the calculation\n",
    "               bulk = comp, # starting composition as used previously\n",
    "               T_start_C = , # temperature to start the calculation - use the wet liquidus temperature calculated above\n",
    "               T_end_C = 750, # end temperature, likely won't be reached in this model but needed as a place holder\n",
    "               dt_C = 0.5, # temperature intervals\n",
    "               P_bar = 1750, # pressure (bars)\n",
    "               H2O_Liq = , # grams of H2O in the system\n",
    "               fO2_buffer = \"NNO\", # fO2 buffer\n",
    "               fluid_sat = True, # if True the system will start at the wet liquidus, but remove any excess fluid prior to crystallisation\n",
    "               Crystallinity_limit = 0.90) # Using this command tells the code to finish the model when the crystal fraction passes above the specified value"
   ]
  },
  {
   "cell_type": "markdown",
   "metadata": {},
   "source": [
    "Some questions to think about once this model has finished running.\n",
    "\n",
    "- **At what temperature does quartz saturate?**\n",
    "\n",
    "- **What is the SiO$_2$ content at quartz saturation?**\n",
    "\n",
    "- **At what temperature does the melt abundance (in wt%) go below 10%?**"
   ]
  },
  {
   "cell_type": "markdown",
   "metadata": {},
   "source": [
    "All outputs included within pyMELTScalc are saved in a pandas DataFrame called 'All'. We can simply select the parameters that we are interested in investigating using the following code:"
   ]
  },
  {
   "cell_type": "code",
   "execution_count": 8,
   "metadata": {},
   "outputs": [],
   "source": [
    "Cryst_Results['All'].loc[:, ['T_C', 'SiO2_Liq', 'mass_Liq', 'mass_Qtz']]"
   ]
  },
  {
   "cell_type": "code",
   "execution_count": null,
   "metadata": {},
   "outputs": [],
   "source": []
  }
 ],
 "metadata": {
  "kernelspec": {
   "display_name": "Python 3 (ipykernel)",
   "language": "python",
   "name": "python3"
  },
  "language_info": {
   "codemirror_mode": {
    "name": "ipython",
    "version": 3
   },
   "file_extension": ".py",
   "mimetype": "text/x-python",
   "name": "python",
   "nbconvert_exporter": "python",
   "pygments_lexer": "ipython3",
   "version": "3.9.13"
  }
 },
 "nbformat": 4,
 "nbformat_minor": 4
}
